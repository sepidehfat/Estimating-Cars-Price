{
 "cells": [
  {
   "cell_type": "code",
   "execution_count": 1,
   "id": "banner-sequence",
   "metadata": {},
   "outputs": [
    {
     "data": {
      "text/html": [
       "<style>.text_cell .rendered_html * {direction: rtl; text-align: right;}</style>\n"
      ],
      "text/plain": [
       "<IPython.core.display.HTML object>"
      ]
     },
     "metadata": {},
     "output_type": "display_data"
    }
   ],
   "source": [
    "%%html\n",
    "<style>.text_cell .rendered_html * {direction: rtl; text-align: right;}</style>"
   ]
  },
  {
   "cell_type": "markdown",
   "id": "weekly-horizon",
   "metadata": {},
   "source": [
    "در این پروژه می خواهیم  قیمت های خودرو ها را پیش بینی کنیم. به این منظور از داده های سایت  دیوار استفاده شده است. از کتابخانه sickit learn برای مدل سازی مسئله استفاده می کنیم. در این پروژه مدل های   KNN, Linear Regression , Decision Tree  را پیاده سازی می کنیم و هایپر پارامتر های بهینه را برای آن پیادا می کنیم. و در ادامه این مدل ها را با یکدیگر مقایسه می کنیم."
   ]
  },
  {
   "cell_type": "code",
   "execution_count": 2,
   "id": "caring-florence",
   "metadata": {},
   "outputs": [],
   "source": [
    "import pandas as pd\n",
    "from sklearn.preprocessing import LabelEncoder\n",
    "import pandas as pd\n",
    "import numpy as np\n",
    "import time\n",
    "import matplotlib.pyplot as plt\n",
    "from sklearn.model_selection import train_test_split\n",
    "from hazm import *\n",
    "from sklearn.feature_extraction.text import CountVectorizer\n",
    "from datetime import datetime\n",
    "from sklearn.feature_selection import mutual_info_classif, mutual_info_regression\n",
    "from sklearn.tree import DecisionTreeClassifier\n",
    "from sklearn import tree\n",
    "from sklearn import metrics\n",
    "from sklearn.neighbors import KNeighborsClassifier\n",
    "from sklearn.linear_model import LinearRegression\n",
    "from sklearn.model_selection import RandomizedSearchCV\n",
    "from sklearn.ensemble import RandomForestRegressor"
   ]
  },
  {
   "cell_type": "code",
   "execution_count": 3,
   "id": "normal-affiliation",
   "metadata": {},
   "outputs": [],
   "source": [
    "df = pd.read_csv(\"vehicles.csv\")"
   ]
  },
  {
   "cell_type": "markdown",
   "id": "moral-israeli",
   "metadata": {},
   "source": [
    "ابتدا پیش پردازش داده ها انجام می دهیم:"
   ]
  },
  {
   "cell_type": "code",
   "execution_count": 4,
   "id": "comparative-inspection",
   "metadata": {},
   "outputs": [
    {
     "name": "stdout",
     "output_type": "stream",
     "text": [
      "<class 'pandas.core.frame.DataFrame'>\n",
      "RangeIndex: 130443 entries, 0 to 130442\n",
      "Data columns (total 9 columns):\n",
      " #   Column       Non-Null Count   Dtype  \n",
      "---  ------       --------------   -----  \n",
      " 0   brand        120451 non-null  object \n",
      " 1   category     130443 non-null  object \n",
      " 2   created_at   130443 non-null  object \n",
      " 3   description  130443 non-null  object \n",
      " 4   image_count  130443 non-null  int64  \n",
      " 5   mileage      120451 non-null  float64\n",
      " 6   price        130443 non-null  int64  \n",
      " 7   title        130443 non-null  object \n",
      " 8   year         120451 non-null  object \n",
      "dtypes: float64(1), int64(2), object(6)\n",
      "memory usage: 9.0+ MB\n"
     ]
    }
   ],
   "source": [
    "df.info()"
   ]
  },
  {
   "cell_type": "markdown",
   "id": "concerned-console",
   "metadata": {},
   "source": [
    "# سوال ۱ و ۲)"
   ]
  },
  {
   "cell_type": "markdown",
   "id": "respected-flood",
   "metadata": {},
   "source": [
    "همان طور که مشاهده می شود بعضی از ویژگی ها تایپ  object دارند برای این که بتوانیم در مدل سازی از این ویژگی ها استفاده کنیم باید آن ها را به مقدار عددی تبدیل کنیم. نحوه انجام این کار بسیار اهمیت دارد و می تواند تاثیر زیادی در دقت مدل داشته باشد."
   ]
  },
  {
   "cell_type": "markdown",
   "id": "pressing-football",
   "metadata": {},
   "source": [
    "### drop NaN"
   ]
  },
  {
   "cell_type": "markdown",
   "id": "inside-bristol",
   "metadata": {},
   "source": [
    "ابتدا سطر هایی را که حداقل یکی از ویژگی های آن ها  NaN  است را حذف می کنیم."
   ]
  },
  {
   "cell_type": "code",
   "execution_count": 5,
   "id": "incomplete-electricity",
   "metadata": {},
   "outputs": [],
   "source": [
    "df = df.dropna().reset_index(drop=True)"
   ]
  },
  {
   "cell_type": "markdown",
   "id": "adjacent-agenda",
   "metadata": {},
   "source": [
    "### category"
   ]
  },
  {
   "cell_type": "markdown",
   "id": "amino-agent",
   "metadata": {},
   "source": [
    "پس از حذف کردن  NaN  ها در ستون  category  فقط یک مقدار  light  داریم بنابر این می توان این ستون را از ویژگی ها حذف کرد."
   ]
  },
  {
   "cell_type": "code",
   "execution_count": 6,
   "id": "other-hebrew",
   "metadata": {},
   "outputs": [
    {
     "data": {
      "text/plain": [
       "light    120451\n",
       "Name: category, dtype: int64"
      ]
     },
     "execution_count": 6,
     "metadata": {},
     "output_type": "execute_result"
    }
   ],
   "source": [
    "df[\"category\"].value_counts()"
   ]
  },
  {
   "cell_type": "code",
   "execution_count": 7,
   "id": "requested-retro",
   "metadata": {},
   "outputs": [],
   "source": [
    "df = df.drop(columns=['category'], axis=1)"
   ]
  },
  {
   "cell_type": "markdown",
   "id": "gothic-palestinian",
   "metadata": {},
   "source": [
    "### year"
   ]
  },
  {
   "cell_type": "markdown",
   "id": "amended-basics",
   "metadata": {},
   "source": [
    "ویژگی  year هم تایپ  objectدارد بنابر این ابتدا کاراکتر های غیر عددی را از  string  آن حذف می کنیم و سپس آن را به فرمت عددی آن تبدیل می کنیم."
   ]
  },
  {
   "cell_type": "code",
   "execution_count": 8,
   "id": "adjusted-cancellation",
   "metadata": {},
   "outputs": [],
   "source": [
    "df['year'] = df['year'].str.extract('(\\d+)', expand=False)\n",
    "df['year'] = df['year'].astype(int)"
   ]
  },
  {
   "cell_type": "markdown",
   "id": "martial-stage",
   "metadata": {},
   "source": [
    "there are some -1 vlues for 'price' column we can delte rows with 'price' = -1 "
   ]
  },
  {
   "cell_type": "markdown",
   "id": "virtual-andrews",
   "metadata": {},
   "source": [
    "#  سوال ۴)"
   ]
  },
  {
   "cell_type": "markdown",
   "id": "advisory-windsor",
   "metadata": {},
   "source": [
    "برای مقادیر از دست رفته در دیتاست روش های مختلی داریم که دو مورد در ادامه توضیح داده شده است و در این جا حذف سطر مربوطه را انتخاب کردم."
   ]
  },
  {
   "cell_type": "markdown",
   "id": "single-happening",
   "metadata": {},
   "source": [
    "### price"
   ]
  },
  {
   "cell_type": "markdown",
   "id": "yellow-warren",
   "metadata": {},
   "source": [
    "تعدادی قیمت -1  در داده ها وجود دارد که می توان میانگین داده های ستون price را با آن ها جایگزین کرد."
   ]
  },
  {
   "cell_type": "code",
   "execution_count": 9,
   "id": "industrial-broad",
   "metadata": {},
   "outputs": [],
   "source": [
    "# df.replace(-1, df['price'].mean(), inplace=True)"
   ]
  },
  {
   "cell_type": "markdown",
   "id": "boxed-orbit",
   "metadata": {},
   "source": [
    "34  داده داریم که مقدار قیمت آن ها -۱ است و تعداد کل داده ها حدود ۱۲۰ هزار است بنابر این بهترین راه حل پاک کردن این سطر ها است به دلیل این که به احتمال زیاد تاثیری در جواب و مدل سازی ندارند."
   ]
  },
  {
   "cell_type": "code",
   "execution_count": 10,
   "id": "hired-walnut",
   "metadata": {},
   "outputs": [],
   "source": [
    "df = df[df['price'] != -1]"
   ]
  },
  {
   "cell_type": "markdown",
   "id": "royal-practice",
   "metadata": {},
   "source": [
    "### created_at"
   ]
  },
  {
   "cell_type": "markdown",
   "id": "cathedral-durham",
   "metadata": {},
   "source": [
    "مقادیر روز را به اعداد ۰ تا ۶ و ساعت را فرمت ۲۴ ساعت در می آوریم و به عنوان دو ستون جدید به داده ها اضافه می کنیم و ستون created_at قبلی را حذف می کنیم."
   ]
  },
  {
   "cell_type": "code",
   "execution_count": 11,
   "id": "indian-lender",
   "metadata": {},
   "outputs": [],
   "source": [
    "df['created_day'] = [time.strptime(i.split()[0], \"%A\").tm_wday  for i in df['created_at']]\n",
    "df['created_time'] = [datetime.strptime(i.split()[1], '%I%p').hour for i in df['created_at']]\n",
    "df = df.drop(columns=['created_at'], axis=1)"
   ]
  },
  {
   "cell_type": "markdown",
   "id": "collectible-smart",
   "metadata": {},
   "source": [
    "### brand: label encoder"
   ]
  },
  {
   "cell_type": "markdown",
   "id": "conceptual-universal",
   "metadata": {},
   "source": [
    "در این روش به هر مقدار این ویژگی یک عدد اختصاص می دهد. مشکل این روش این است که به دلیل این که  به مقادیر مختلف عدد اختصاص می دهد مقدار این اعداد در واقعیت معنی خاصی نمی دهند ولی در مدل سازی ممکن است  ترتیب این مقادیر را تاثیر بدهد و خطای مدل بیشتر شود.  مثلا ممکن است به پراید عدد بیشتری نسبت به بی ام و بدهد و در مدل رگرسیون خطی این مقایسه به این معنی است که هر چه عدد مروط به برند ماشین پایین تر باشد قیمت آن بیشتر است در صورتی که در بقیه نمونه ها ممکن است این گونه نباشد."
   ]
  },
  {
   "cell_type": "code",
   "execution_count": 12,
   "id": "hairy-booth",
   "metadata": {},
   "outputs": [],
   "source": [
    "le = LabelEncoder()\n",
    "le.fit(df['brand'])\n",
    "df['brand'] = le.transform(df['brand'])"
   ]
  },
  {
   "cell_type": "code",
   "execution_count": 13,
   "id": "embedded-yugoslavia",
   "metadata": {},
   "outputs": [
    {
     "data": {
      "text/plain": [
       "['ام\\u200cوی\\u200cام::MVM',\n",
       " 'بنز::Mercedes-Benz',\n",
       " 'بی\\u200cام\\u200cو::BMW',\n",
       " 'تندر ۹۰::Tondar 90',\n",
       " 'تویوتا::Toyota',\n",
       " 'تیبا::Tiba',\n",
       " 'دوو::Daewoo',\n",
       " 'رانا::Runna',\n",
       " 'رنو::Renault',\n",
       " 'زانتیا::Citroen Xantia',\n",
       " 'سایر',\n",
       " 'سمند::Samand',\n",
       " 'لیفان::Lifan',\n",
       " 'نیسان::Nissan',\n",
       " 'هیوندای (غیره)::Hyundai',\n",
       " 'هیوندای سوناتا::Hyundai Sonata',\n",
       " 'وانت',\n",
       " 'پراید صندوق\\u200cدار::Pride',\n",
       " 'پراید هاچ\\u200cبک::Pride',\n",
       " 'پژو روآ / آر\\u200cدی::RD/ROA',\n",
       " 'پژو پارس::Peugeot Pars',\n",
       " 'پژو ۲۰۶\\u200d صندوق\\u200cدار::Peugeot 206',\n",
       " 'پژو ۲۰۶\\u200d::Peugeot 206',\n",
       " 'پژو ۴۰۵::Peugeot 405',\n",
       " 'پیکان::Peykan',\n",
       " 'کیا::Kia']"
      ]
     },
     "execution_count": 13,
     "metadata": {},
     "output_type": "execute_result"
    }
   ],
   "source": [
    "list(le.classes_)"
   ]
  },
  {
   "cell_type": "markdown",
   "id": "independent-baghdad",
   "metadata": {},
   "source": [
    "تبدیل برعکس مقادیر assign شده:\n"
   ]
  },
  {
   "cell_type": "code",
   "execution_count": 14,
   "id": "continuous-singing",
   "metadata": {},
   "outputs": [
    {
     "data": {
      "text/plain": [
       "['پژو ۴۰۵::Peugeot 405',\n",
       " 'نیسان::Nissan',\n",
       " 'سمند::Samand',\n",
       " 'پژو ۴۰۵::Peugeot 405',\n",
       " 'ام\\u200cوی\\u200cام::MVM',\n",
       " 'پراید صندوق\\u200cدار::Pride',\n",
       " 'پراید هاچ\\u200cبک::Pride',\n",
       " 'سایر',\n",
       " 'پراید صندوق\\u200cدار::Pride',\n",
       " 'پژو ۲۰۶\\u200d::Peugeot 206']"
      ]
     },
     "execution_count": 14,
     "metadata": {},
     "output_type": "execute_result"
    }
   ],
   "source": [
    "brand_inv = le.inverse_transform(df['brand'])\n",
    "list(brand_inv)[:10]"
   ]
  },
  {
   "cell_type": "code",
   "execution_count": 15,
   "id": "legendary-purpose",
   "metadata": {},
   "outputs": [
    {
     "data": {
      "text/html": [
       "<div>\n",
       "<style scoped>\n",
       "    .dataframe tbody tr th:only-of-type {\n",
       "        vertical-align: middle;\n",
       "    }\n",
       "\n",
       "    .dataframe tbody tr th {\n",
       "        vertical-align: top;\n",
       "    }\n",
       "\n",
       "    .dataframe thead th {\n",
       "        text-align: right;\n",
       "    }\n",
       "</style>\n",
       "<table border=\"1\" class=\"dataframe\">\n",
       "  <thead>\n",
       "    <tr style=\"text-align: right;\">\n",
       "      <th></th>\n",
       "      <th>brand</th>\n",
       "      <th>description</th>\n",
       "      <th>image_count</th>\n",
       "      <th>mileage</th>\n",
       "      <th>price</th>\n",
       "      <th>title</th>\n",
       "      <th>year</th>\n",
       "      <th>created_day</th>\n",
       "      <th>created_time</th>\n",
       "    </tr>\n",
       "  </thead>\n",
       "  <tbody>\n",
       "    <tr>\n",
       "      <th>1</th>\n",
       "      <td>23</td>\n",
       "      <td>پژو 2000فنی تازه تعمیر بدنه بدون خطو خش تخیف ب...</td>\n",
       "      <td>0</td>\n",
       "      <td>290000.0</td>\n",
       "      <td>8500000</td>\n",
       "      <td>پژو مدل 81 مشکی</td>\n",
       "      <td>1381</td>\n",
       "      <td>2</td>\n",
       "      <td>11</td>\n",
       "    </tr>\n",
       "    <tr>\n",
       "      <th>2</th>\n",
       "      <td>13</td>\n",
       "      <td>سلام.\\nماشین کاملا سالم همه چی فابریک متور زد ...</td>\n",
       "      <td>3</td>\n",
       "      <td>175000.0</td>\n",
       "      <td>19500000</td>\n",
       "      <td>پاترول 2در</td>\n",
       "      <td>1372</td>\n",
       "      <td>2</td>\n",
       "      <td>13</td>\n",
       "    </tr>\n",
       "    <tr>\n",
       "      <th>3</th>\n",
       "      <td>11</td>\n",
       "      <td>سمند ال ایکس بدون رنگ تمامی سرویس ها انجام شده...</td>\n",
       "      <td>4</td>\n",
       "      <td>80000.0</td>\n",
       "      <td>23900000</td>\n",
       "      <td>سمند دوگانه کارخانه</td>\n",
       "      <td>1391</td>\n",
       "      <td>3</td>\n",
       "      <td>7</td>\n",
       "    </tr>\n",
       "    <tr>\n",
       "      <th>4</th>\n",
       "      <td>23</td>\n",
       "      <td>بیمه یکسال ده سال تخفیف دور رنگ شاسی پلمپ سالم</td>\n",
       "      <td>3</td>\n",
       "      <td>125000.0</td>\n",
       "      <td>8500000</td>\n",
       "      <td>پژو405 مدل84</td>\n",
       "      <td>1384</td>\n",
       "      <td>3</td>\n",
       "      <td>8</td>\n",
       "    </tr>\n",
       "    <tr>\n",
       "      <th>5</th>\n",
       "      <td>0</td>\n",
       "      <td>ام وی ام چهار سیلندر مدل 93 فنی سالم بدون رنگ ...</td>\n",
       "      <td>2</td>\n",
       "      <td>11000.0</td>\n",
       "      <td>18500000</td>\n",
       "      <td>ام وی ام 110 چهار سیلندر</td>\n",
       "      <td>1393</td>\n",
       "      <td>3</td>\n",
       "      <td>8</td>\n",
       "    </tr>\n",
       "    <tr>\n",
       "      <th>...</th>\n",
       "      <td>...</td>\n",
       "      <td>...</td>\n",
       "      <td>...</td>\n",
       "      <td>...</td>\n",
       "      <td>...</td>\n",
       "      <td>...</td>\n",
       "      <td>...</td>\n",
       "      <td>...</td>\n",
       "      <td>...</td>\n",
       "    </tr>\n",
       "    <tr>\n",
       "      <th>120443</th>\n",
       "      <td>23</td>\n",
       "      <td>پژو GLX تاکسی گردشی  مدل ۱۳۹۰ بسیار کم کارکرد\\...</td>\n",
       "      <td>1</td>\n",
       "      <td>120000.0</td>\n",
       "      <td>25900000</td>\n",
       "      <td>پژو 405 GLX تاکسی گردشی</td>\n",
       "      <td>1390</td>\n",
       "      <td>0</td>\n",
       "      <td>13</td>\n",
       "    </tr>\n",
       "    <tr>\n",
       "      <th>120445</th>\n",
       "      <td>3</td>\n",
       "      <td>فوق‌العاده سالم بدون رنگ دزدگیر ماجیکار شیشه ه...</td>\n",
       "      <td>2</td>\n",
       "      <td>173000.0</td>\n",
       "      <td>30000000</td>\n",
       "      <td>ال۹۰ E2</td>\n",
       "      <td>1390</td>\n",
       "      <td>1</td>\n",
       "      <td>14</td>\n",
       "    </tr>\n",
       "    <tr>\n",
       "      <th>120446</th>\n",
       "      <td>17</td>\n",
       "      <td>مدل 84 تمیز. بدون رنگ. سیستم صوتی. رینگ و لاست...</td>\n",
       "      <td>3</td>\n",
       "      <td>140000.0</td>\n",
       "      <td>11000000</td>\n",
       "      <td>پراید مدل 84 بدون رنگ</td>\n",
       "      <td>1384</td>\n",
       "      <td>1</td>\n",
       "      <td>17</td>\n",
       "    </tr>\n",
       "    <tr>\n",
       "      <th>120449</th>\n",
       "      <td>17</td>\n",
       "      <td>سند۲ برگ،بیمه تا برج$NUMتخفیفات بیمه 15 سال،مع...</td>\n",
       "      <td>4</td>\n",
       "      <td>123000.0</td>\n",
       "      <td>6900000</td>\n",
       "      <td>پراید 79 بسیار سالم</td>\n",
       "      <td>1379</td>\n",
       "      <td>3</td>\n",
       "      <td>15</td>\n",
       "    </tr>\n",
       "    <tr>\n",
       "      <th>120450</th>\n",
       "      <td>17</td>\n",
       "      <td>پراید دوگانه کارخانه میباشد و کم کارکرد.روکش ....</td>\n",
       "      <td>3</td>\n",
       "      <td>43000.0</td>\n",
       "      <td>17400000</td>\n",
       "      <td>پراید دوگانه کارخانه مدل93</td>\n",
       "      <td>1393</td>\n",
       "      <td>4</td>\n",
       "      <td>16</td>\n",
       "    </tr>\n",
       "  </tbody>\n",
       "</table>\n",
       "<p>103799 rows × 9 columns</p>\n",
       "</div>"
      ],
      "text/plain": [
       "        brand                                        description  image_count  \\\n",
       "1          23  پژو 2000فنی تازه تعمیر بدنه بدون خطو خش تخیف ب...            0   \n",
       "2          13  سلام.\\nماشین کاملا سالم همه چی فابریک متور زد ...            3   \n",
       "3          11  سمند ال ایکس بدون رنگ تمامی سرویس ها انجام شده...            4   \n",
       "4          23     بیمه یکسال ده سال تخفیف دور رنگ شاسی پلمپ سالم            3   \n",
       "5           0  ام وی ام چهار سیلندر مدل 93 فنی سالم بدون رنگ ...            2   \n",
       "...       ...                                                ...          ...   \n",
       "120443     23  پژو GLX تاکسی گردشی  مدل ۱۳۹۰ بسیار کم کارکرد\\...            1   \n",
       "120445      3  فوق‌العاده سالم بدون رنگ دزدگیر ماجیکار شیشه ه...            2   \n",
       "120446     17  مدل 84 تمیز. بدون رنگ. سیستم صوتی. رینگ و لاست...            3   \n",
       "120449     17  سند۲ برگ،بیمه تا برج$NUMتخفیفات بیمه 15 سال،مع...            4   \n",
       "120450     17  پراید دوگانه کارخانه میباشد و کم کارکرد.روکش ....            3   \n",
       "\n",
       "         mileage     price                       title  year  created_day  \\\n",
       "1       290000.0   8500000             پژو مدل 81 مشکی  1381            2   \n",
       "2       175000.0  19500000                  پاترول 2در  1372            2   \n",
       "3        80000.0  23900000         سمند دوگانه کارخانه  1391            3   \n",
       "4       125000.0   8500000                پژو405 مدل84  1384            3   \n",
       "5        11000.0  18500000    ام وی ام 110 چهار سیلندر  1393            3   \n",
       "...          ...       ...                         ...   ...          ...   \n",
       "120443  120000.0  25900000     پژو 405 GLX تاکسی گردشی  1390            0   \n",
       "120445  173000.0  30000000                     ال۹۰ E2  1390            1   \n",
       "120446  140000.0  11000000       پراید مدل 84 بدون رنگ  1384            1   \n",
       "120449  123000.0   6900000         پراید 79 بسیار سالم  1379            3   \n",
       "120450   43000.0  17400000  پراید دوگانه کارخانه مدل93  1393            4   \n",
       "\n",
       "        created_time  \n",
       "1                 11  \n",
       "2                 13  \n",
       "3                  7  \n",
       "4                  8  \n",
       "5                  8  \n",
       "...              ...  \n",
       "120443            13  \n",
       "120445            14  \n",
       "120446            17  \n",
       "120449            15  \n",
       "120450            16  \n",
       "\n",
       "[103799 rows x 9 columns]"
      ]
     },
     "execution_count": 15,
     "metadata": {},
     "output_type": "execute_result"
    }
   ],
   "source": [
    "df"
   ]
  },
  {
   "cell_type": "markdown",
   "id": "assigned-moore",
   "metadata": {},
   "source": [
    "### brand: one hot encoder "
   ]
  },
  {
   "cell_type": "markdown",
   "id": "correct-number",
   "metadata": {},
   "source": [
    "در  one hot encoder  ها ستونی که  categorical است را می گیرد و به ازای هر مقدار که این مقادیر دارند یک ستون جدید ایجاد می کند که مقادیر آن ویژگی جدید برای هر داده به این صورت است که اگر نمونه آن ویژگی را داشت مقدار یک و در غیر این صورت مقدار صفر می گیرد. "
   ]
  },
  {
   "cell_type": "code",
   "execution_count": 16,
   "id": "ordered-disease",
   "metadata": {},
   "outputs": [],
   "source": [
    "# df = pd.get_dummies(df, columns=['brand']).reset_index(drop=True)"
   ]
  },
  {
   "cell_type": "markdown",
   "id": "pleasant-photograph",
   "metadata": {},
   "source": [
    "# سوال۳)"
   ]
  },
  {
   "cell_type": "markdown",
   "id": "racial-reduction",
   "metadata": {},
   "source": [
    "### title and description"
   ]
  },
  {
   "cell_type": "markdown",
   "id": "tutorial-mitchell",
   "metadata": {},
   "source": [
    "پس از امتحان کردن روش های مختلف کامنت شده بهترین جواب را بدون استفاده از  stemmer  و  lemmatizer می گیریم"
   ]
  },
  {
   "cell_type": "code",
   "execution_count": 17,
   "id": "planned-minneapolis",
   "metadata": {},
   "outputs": [],
   "source": [
    "STOPS = set(stopwords_list())\n",
    "def clean_text(text):\n",
    "    words = word_tokenize(text)\n",
    "#     words = [w.replace('\\u200c', '') for w in words]\n",
    "#     words = [w.replace('-', '') for w in words]\n",
    "#     words = [normalizer.normalize(w) for w in words]\n",
    "#     words = [stemmer.stem(w) for w in words]\n",
    "#     words = [lemmatizer.lemmatize(w) for w in words]\n",
    "    words = [w for w in words if w.isalpha()]\n",
    "#     STOPS = set(stopwords_list())\n",
    "    words = [w for w in words if not w in STOPS]\n",
    "    return words"
   ]
  },
  {
   "cell_type": "markdown",
   "id": "emotional-skating",
   "metadata": {},
   "source": [
    "به دلیل این که در ادامه برای استفاده از vectorizer داده های متنی باید به صورت جمله باشند پس از  clean کردن text کلمات را با استفاده از  space در کنار یکدیگر قرار می دهیم. (برای هر نمونه)"
   ]
  },
  {
   "cell_type": "code",
   "execution_count": 18,
   "id": "stuck-bracket",
   "metadata": {},
   "outputs": [
    {
     "name": "stdout",
     "output_type": "stream",
     "text": [
      "3.3181114196777344\n"
     ]
    }
   ],
   "source": [
    "# normalizer = Normalizer()\n",
    "# stemmer = Stemmer()\n",
    "# lemmatizer = Lemmatizer()\n",
    "t1 = time.time()\n",
    "df['description'] = df['description'].apply(clean_text)\n",
    "df['title'] = df['title'].apply(clean_text)\n",
    "df['description'] = df['description'].apply(lambda x: \" \".join(x))\n",
    "df['title'] = df['title'].apply(lambda x: \" \".join(x))\n",
    "t2 = time.time()\n",
    "print(t2-t1)"
   ]
  },
  {
   "cell_type": "markdown",
   "id": "supposed-banking",
   "metadata": {},
   "source": [
    "### vectorizer"
   ]
  },
  {
   "cell_type": "markdown",
   "id": "latest-sierra",
   "metadata": {},
   "source": [
    "به تعداد  max_feature پرتکرار ترین کلماتی را که با استفاده از vectorizer  به دست می آوریم را در دیتا فریم نهایی قرار می دهیم."
   ]
  },
  {
   "cell_type": "code",
   "execution_count": 19,
   "id": "opposite-scout",
   "metadata": {},
   "outputs": [
    {
     "name": "stdout",
     "output_type": "stream",
     "text": [
      "1.6059715747833252\n"
     ]
    }
   ],
   "source": [
    "t1 = time.time()\n",
    "\n",
    "df = df.reset_index(drop=True)\n",
    "vectorizer = CountVectorizer(analyzer='word', ngram_range=(1, 1), max_features=50)\n",
    "vectorized = vectorizer.fit_transform(df['description'])\n",
    "vectorized_desc = pd.DataFrame(vectorized.toarray().astype(np.uint8),\n",
    "            index=['sentence '+str(i)\n",
    "                   for i in range(1, 1+len(df['description']))],\n",
    "            columns=vectorizer.get_feature_names())\n",
    "vectorizer = CountVectorizer(analyzer='word', ngram_range=(1, 1), max_features=5)\n",
    "vectorized = vectorizer.fit_transform(df['title'])\n",
    "vectorized_title = pd.DataFrame(vectorized.toarray().astype(np.uint8),\n",
    "            index=['sentence '+str(i)\n",
    "                   for i in range(1, 1+len(df['title']))],\n",
    "            columns=vectorizer.get_feature_names())\n",
    "temp = df.drop(columns=['description', 'title'])\n",
    "vectorized_title = pd.DataFrame(vectorized_title).reset_index(drop=True)\n",
    "vectorized_desc = pd.DataFrame(vectorized_desc).reset_index(drop=True)\n",
    "data = pd.concat([temp, vectorized_desc, vectorized_title], axis=1).reset_index(drop=True)\n",
    "t2 = time.time()\n",
    "print(t2-t1)"
   ]
  },
  {
   "cell_type": "code",
   "execution_count": 20,
   "id": "challenging-suffering",
   "metadata": {},
   "outputs": [
    {
     "data": {
      "text/html": [
       "<div>\n",
       "<style scoped>\n",
       "    .dataframe tbody tr th:only-of-type {\n",
       "        vertical-align: middle;\n",
       "    }\n",
       "\n",
       "    .dataframe tbody tr th {\n",
       "        vertical-align: top;\n",
       "    }\n",
       "\n",
       "    .dataframe thead th {\n",
       "        text-align: right;\n",
       "    }\n",
       "</style>\n",
       "<table border=\"1\" class=\"dataframe\">\n",
       "  <thead>\n",
       "    <tr style=\"text-align: right;\">\n",
       "      <th></th>\n",
       "      <th>brand</th>\n",
       "      <th>image_count</th>\n",
       "      <th>mileage</th>\n",
       "      <th>price</th>\n",
       "      <th>year</th>\n",
       "      <th>created_day</th>\n",
       "      <th>created_time</th>\n",
       "      <th>العاده</th>\n",
       "      <th>ای</th>\n",
       "      <th>باند</th>\n",
       "      <th>...</th>\n",
       "      <th>پراید</th>\n",
       "      <th>پژو</th>\n",
       "      <th>کارکرد</th>\n",
       "      <th>کاپوت</th>\n",
       "      <th>گلگیر</th>\n",
       "      <th>دوگانه</th>\n",
       "      <th>سفید</th>\n",
       "      <th>مدل</th>\n",
       "      <th>پراید</th>\n",
       "      <th>پژو</th>\n",
       "    </tr>\n",
       "  </thead>\n",
       "  <tbody>\n",
       "    <tr>\n",
       "      <th>0</th>\n",
       "      <td>23</td>\n",
       "      <td>0</td>\n",
       "      <td>290000.0</td>\n",
       "      <td>8500000</td>\n",
       "      <td>1381</td>\n",
       "      <td>2</td>\n",
       "      <td>11</td>\n",
       "      <td>0</td>\n",
       "      <td>0</td>\n",
       "      <td>0</td>\n",
       "      <td>...</td>\n",
       "      <td>0</td>\n",
       "      <td>1</td>\n",
       "      <td>0</td>\n",
       "      <td>0</td>\n",
       "      <td>0</td>\n",
       "      <td>0</td>\n",
       "      <td>0</td>\n",
       "      <td>1</td>\n",
       "      <td>0</td>\n",
       "      <td>1</td>\n",
       "    </tr>\n",
       "    <tr>\n",
       "      <th>1</th>\n",
       "      <td>13</td>\n",
       "      <td>3</td>\n",
       "      <td>175000.0</td>\n",
       "      <td>19500000</td>\n",
       "      <td>1372</td>\n",
       "      <td>2</td>\n",
       "      <td>13</td>\n",
       "      <td>0</td>\n",
       "      <td>0</td>\n",
       "      <td>0</td>\n",
       "      <td>...</td>\n",
       "      <td>0</td>\n",
       "      <td>0</td>\n",
       "      <td>0</td>\n",
       "      <td>0</td>\n",
       "      <td>0</td>\n",
       "      <td>0</td>\n",
       "      <td>0</td>\n",
       "      <td>0</td>\n",
       "      <td>0</td>\n",
       "      <td>0</td>\n",
       "    </tr>\n",
       "    <tr>\n",
       "      <th>2</th>\n",
       "      <td>11</td>\n",
       "      <td>4</td>\n",
       "      <td>80000.0</td>\n",
       "      <td>23900000</td>\n",
       "      <td>1391</td>\n",
       "      <td>3</td>\n",
       "      <td>7</td>\n",
       "      <td>0</td>\n",
       "      <td>0</td>\n",
       "      <td>0</td>\n",
       "      <td>...</td>\n",
       "      <td>0</td>\n",
       "      <td>0</td>\n",
       "      <td>0</td>\n",
       "      <td>0</td>\n",
       "      <td>0</td>\n",
       "      <td>1</td>\n",
       "      <td>0</td>\n",
       "      <td>0</td>\n",
       "      <td>0</td>\n",
       "      <td>0</td>\n",
       "    </tr>\n",
       "    <tr>\n",
       "      <th>3</th>\n",
       "      <td>23</td>\n",
       "      <td>3</td>\n",
       "      <td>125000.0</td>\n",
       "      <td>8500000</td>\n",
       "      <td>1384</td>\n",
       "      <td>3</td>\n",
       "      <td>8</td>\n",
       "      <td>0</td>\n",
       "      <td>0</td>\n",
       "      <td>0</td>\n",
       "      <td>...</td>\n",
       "      <td>0</td>\n",
       "      <td>0</td>\n",
       "      <td>0</td>\n",
       "      <td>0</td>\n",
       "      <td>0</td>\n",
       "      <td>0</td>\n",
       "      <td>0</td>\n",
       "      <td>1</td>\n",
       "      <td>0</td>\n",
       "      <td>1</td>\n",
       "    </tr>\n",
       "    <tr>\n",
       "      <th>4</th>\n",
       "      <td>0</td>\n",
       "      <td>2</td>\n",
       "      <td>11000.0</td>\n",
       "      <td>18500000</td>\n",
       "      <td>1393</td>\n",
       "      <td>3</td>\n",
       "      <td>8</td>\n",
       "      <td>0</td>\n",
       "      <td>0</td>\n",
       "      <td>0</td>\n",
       "      <td>...</td>\n",
       "      <td>0</td>\n",
       "      <td>0</td>\n",
       "      <td>0</td>\n",
       "      <td>0</td>\n",
       "      <td>0</td>\n",
       "      <td>0</td>\n",
       "      <td>0</td>\n",
       "      <td>0</td>\n",
       "      <td>0</td>\n",
       "      <td>0</td>\n",
       "    </tr>\n",
       "    <tr>\n",
       "      <th>5</th>\n",
       "      <td>17</td>\n",
       "      <td>1</td>\n",
       "      <td>200000.0</td>\n",
       "      <td>11000000</td>\n",
       "      <td>1387</td>\n",
       "      <td>3</td>\n",
       "      <td>9</td>\n",
       "      <td>0</td>\n",
       "      <td>0</td>\n",
       "      <td>0</td>\n",
       "      <td>...</td>\n",
       "      <td>1</td>\n",
       "      <td>0</td>\n",
       "      <td>0</td>\n",
       "      <td>0</td>\n",
       "      <td>0</td>\n",
       "      <td>0</td>\n",
       "      <td>0</td>\n",
       "      <td>0</td>\n",
       "      <td>0</td>\n",
       "      <td>0</td>\n",
       "    </tr>\n",
       "    <tr>\n",
       "      <th>6</th>\n",
       "      <td>18</td>\n",
       "      <td>3</td>\n",
       "      <td>1.0</td>\n",
       "      <td>7800000</td>\n",
       "      <td>1380</td>\n",
       "      <td>4</td>\n",
       "      <td>4</td>\n",
       "      <td>0</td>\n",
       "      <td>0</td>\n",
       "      <td>0</td>\n",
       "      <td>...</td>\n",
       "      <td>0</td>\n",
       "      <td>0</td>\n",
       "      <td>0</td>\n",
       "      <td>0</td>\n",
       "      <td>0</td>\n",
       "      <td>0</td>\n",
       "      <td>0</td>\n",
       "      <td>1</td>\n",
       "      <td>1</td>\n",
       "      <td>0</td>\n",
       "    </tr>\n",
       "    <tr>\n",
       "      <th>7</th>\n",
       "      <td>10</td>\n",
       "      <td>1</td>\n",
       "      <td>17000.0</td>\n",
       "      <td>45000000</td>\n",
       "      <td>1393</td>\n",
       "      <td>4</td>\n",
       "      <td>12</td>\n",
       "      <td>0</td>\n",
       "      <td>0</td>\n",
       "      <td>0</td>\n",
       "      <td>...</td>\n",
       "      <td>0</td>\n",
       "      <td>0</td>\n",
       "      <td>0</td>\n",
       "      <td>0</td>\n",
       "      <td>0</td>\n",
       "      <td>0</td>\n",
       "      <td>0</td>\n",
       "      <td>0</td>\n",
       "      <td>0</td>\n",
       "      <td>0</td>\n",
       "    </tr>\n",
       "    <tr>\n",
       "      <th>8</th>\n",
       "      <td>17</td>\n",
       "      <td>3</td>\n",
       "      <td>250000.0</td>\n",
       "      <td>11000000</td>\n",
       "      <td>1388</td>\n",
       "      <td>5</td>\n",
       "      <td>12</td>\n",
       "      <td>0</td>\n",
       "      <td>0</td>\n",
       "      <td>0</td>\n",
       "      <td>...</td>\n",
       "      <td>0</td>\n",
       "      <td>0</td>\n",
       "      <td>0</td>\n",
       "      <td>0</td>\n",
       "      <td>0</td>\n",
       "      <td>1</td>\n",
       "      <td>0</td>\n",
       "      <td>0</td>\n",
       "      <td>1</td>\n",
       "      <td>0</td>\n",
       "    </tr>\n",
       "    <tr>\n",
       "      <th>9</th>\n",
       "      <td>22</td>\n",
       "      <td>4</td>\n",
       "      <td>120000.0</td>\n",
       "      <td>14800000</td>\n",
       "      <td>1386</td>\n",
       "      <td>5</td>\n",
       "      <td>13</td>\n",
       "      <td>0</td>\n",
       "      <td>0</td>\n",
       "      <td>0</td>\n",
       "      <td>...</td>\n",
       "      <td>0</td>\n",
       "      <td>0</td>\n",
       "      <td>0</td>\n",
       "      <td>0</td>\n",
       "      <td>0</td>\n",
       "      <td>0</td>\n",
       "      <td>0</td>\n",
       "      <td>0</td>\n",
       "      <td>0</td>\n",
       "      <td>0</td>\n",
       "    </tr>\n",
       "  </tbody>\n",
       "</table>\n",
       "<p>10 rows × 62 columns</p>\n",
       "</div>"
      ],
      "text/plain": [
       "   brand  image_count   mileage     price  year  created_day  created_time  \\\n",
       "0     23            0  290000.0   8500000  1381            2            11   \n",
       "1     13            3  175000.0  19500000  1372            2            13   \n",
       "2     11            4   80000.0  23900000  1391            3             7   \n",
       "3     23            3  125000.0   8500000  1384            3             8   \n",
       "4      0            2   11000.0  18500000  1393            3             8   \n",
       "5     17            1  200000.0  11000000  1387            3             9   \n",
       "6     18            3       1.0   7800000  1380            4             4   \n",
       "7     10            1   17000.0  45000000  1393            4            12   \n",
       "8     17            3  250000.0  11000000  1388            5            12   \n",
       "9     22            4  120000.0  14800000  1386            5            13   \n",
       "\n",
       "   العاده  ای  باند  ...  پراید  پژو  کارکرد  کاپوت  گلگیر  دوگانه  سفید  مدل  \\\n",
       "0       0   0     0  ...      0    1       0      0      0       0     0    1   \n",
       "1       0   0     0  ...      0    0       0      0      0       0     0    0   \n",
       "2       0   0     0  ...      0    0       0      0      0       1     0    0   \n",
       "3       0   0     0  ...      0    0       0      0      0       0     0    1   \n",
       "4       0   0     0  ...      0    0       0      0      0       0     0    0   \n",
       "5       0   0     0  ...      1    0       0      0      0       0     0    0   \n",
       "6       0   0     0  ...      0    0       0      0      0       0     0    1   \n",
       "7       0   0     0  ...      0    0       0      0      0       0     0    0   \n",
       "8       0   0     0  ...      0    0       0      0      0       1     0    0   \n",
       "9       0   0     0  ...      0    0       0      0      0       0     0    0   \n",
       "\n",
       "   پراید  پژو  \n",
       "0      0    1  \n",
       "1      0    0  \n",
       "2      0    0  \n",
       "3      0    1  \n",
       "4      0    0  \n",
       "5      0    0  \n",
       "6      1    0  \n",
       "7      0    0  \n",
       "8      1    0  \n",
       "9      0    0  \n",
       "\n",
       "[10 rows x 62 columns]"
      ]
     },
     "execution_count": 20,
     "metadata": {},
     "output_type": "execute_result"
    }
   ],
   "source": [
    "data.head(10)"
   ]
  },
  {
   "cell_type": "code",
   "execution_count": 21,
   "id": "biblical-animation",
   "metadata": {},
   "outputs": [],
   "source": [
    "Y = data['price']\n",
    "X = data.drop(columns=['price'])"
   ]
  },
  {
   "cell_type": "markdown",
   "id": "underlying-doctrine",
   "metadata": {},
   "source": [
    "### mutual information"
   ]
  },
  {
   "cell_type": "markdown",
   "id": "incorporated-margin",
   "metadata": {},
   "source": [
    "mutual information  بین دو ویژگی که در این جا بین ستون  های ویژگی و هدف مد نظر است، نشان دهنده  وابستگی آن ها می باشد. در این جا به این معنی است که هر ویژگی به چه میزان در قیمت تاثیر گذار است.  "
   ]
  },
  {
   "cell_type": "code",
   "execution_count": 22,
   "id": "cleared-upgrade",
   "metadata": {},
   "outputs": [
    {
     "name": "stdout",
     "output_type": "stream",
     "text": [
      "102.53135251998901\n"
     ]
    }
   ],
   "source": [
    "t1 = time.time()\n",
    "\n",
    "mi = mutual_info_classif(X, Y)\n",
    "mi = pd.Series(mi)\n",
    "mi.index = X.columns\n",
    "mi.sort_values(ascending=False, inplace=True)\n",
    "\n",
    "t2 = time.time()\n",
    "print(t2-t1)"
   ]
  },
  {
   "cell_type": "code",
   "execution_count": 23,
   "id": "jewish-barcelona",
   "metadata": {},
   "outputs": [
    {
     "data": {
      "image/png": "[encoded data removed]",
      "text/plain": [
       "<Figure size 1440x1440 with 1 Axes>"
      ]
     },
     "metadata": {
      "needs_background": "light"
     },
     "output_type": "display_data"
    }
   ],
   "source": [
    "plt.figure(figsize=(20, 20))\n",
    "plt.title(\"Feature importances\")\n",
    "plt.xlabel('Information Gain')\n",
    "plt.ylabel('Features')\n",
    "plt.barh(range(X.shape[1]), mi, color=\"r\", align=\"center\")\n",
    "plt.yticks(range(X.shape[1]), X.columns)\n",
    "plt.ylim([-1, X.shape[1]])\n",
    "plt.show()"
   ]
  },
  {
   "cell_type": "markdown",
   "id": "periodic-legend",
   "metadata": {},
   "source": [
    "مشاهده می شود که قیمت خودرو ها بیشتر به برند وابسته اند."
   ]
  },
  {
   "cell_type": "markdown",
   "id": "medium-retail",
   "metadata": {},
   "source": [
    " سپس داده تست و آموزشی را جدا می کنیم:"
   ]
  },
  {
   "cell_type": "code",
   "execution_count": 24,
   "id": "joined-indication",
   "metadata": {},
   "outputs": [],
   "source": [
    "X_train, X_test, y_train, y_test = train_test_split(X, Y, test_size=0.2, shuffle=True)"
   ]
  },
  {
   "cell_type": "markdown",
   "id": "honey-bracelet",
   "metadata": {},
   "source": [
    "# سوال ۶)"
   ]
  },
  {
   "cell_type": "markdown",
   "id": "periodic-citation",
   "metadata": {},
   "source": [
    "# Decision Tree"
   ]
  },
  {
   "cell_type": "markdown",
   "id": "affiliated-paste",
   "metadata": {},
   "source": [
    "یک روش یادگیری نظارتی  برای  classification  و regression به کار می رود."
   ]
  },
  {
   "cell_type": "markdown",
   "id": "egyptian-prophet",
   "metadata": {},
   "source": [
    "max_depth: بیشترین عمقی که درخت باید داشته باشد. در حالت دیفالت عمق را تا زمانی که همه برگ ها فقط یک خروجی(به اندازه min_samples_leaf که به صورت دیفالت یک است) را بدهند  و یا همه برگ ها از مقدار min_sample split کم تر مقدار داشته باشند ادامه پیدا می کند. \n",
    "بیشترین مقدار آن می تواند یکی کم تر از تعداد داده های train  باشد. که هر چه مدل سازی به این حالت نزدیک تر باشد احتمال overfit  شدن زیاد تر است. در حالت کلی هر چه تعداد برگ ها و عمق درخت بیشتر شود مدل پیچیده تر و مستعد overfitting می شود."
   ]
  },
  {
   "cell_type": "markdown",
   "id": "ecological-memphis",
   "metadata": {},
   "source": [
    "از طرف دیگر عمق کم باعث underfit شدن مدل می شود یعنی حتا برای داده های آموزشی هم خطای زیادی داریم."
   ]
  },
  {
   "cell_type": "markdown",
   "id": "established-generation",
   "metadata": {},
   "source": [
    "بنابر این برای عمق های مختلف خطا را محاسبه می کنیم و عمقی که کمترین خطا را داشت انتخاب می کنیم."
   ]
  },
  {
   "cell_type": "markdown",
   "id": "southeast-chest",
   "metadata": {},
   "source": [
    "min_samples split: کمترین تعداد نمونه ای که یک نود داخلی نیاز دارد که بتوند  split  کند. در واقع هر چه این عدد کوچک تر باشدمدل پیچیده تر می شود."
   ]
  },
  {
   "cell_type": "code",
   "execution_count": 79,
   "id": "activated-longer",
   "metadata": {},
   "outputs": [
    {
     "name": "stdout",
     "output_type": "stream",
     "text": [
      "depth: 5\n",
      "depth: 6\n",
      "depth: 7\n",
      "depth: 8\n",
      "depth: 9\n",
      "depth: 10\n",
      "depth: 11\n",
      "depth: 12\n",
      "depth: 13\n",
      "depth: 14\n",
      "27.891234874725342\n"
     ]
    }
   ],
   "source": [
    "t1 = time.time()\n",
    "\n",
    "depths = np.arange(5, 15, 1)\n",
    "error_train = []\n",
    "error_test = []\n",
    "\n",
    "for depth in depths:\n",
    "    print(\"depth:\", depth)\n",
    "    dt = DecisionTreeClassifier(criterion=\"entropy\", max_depth=depth, min_samples_split=30)\n",
    "    dt.fit(X_train, y_train)\n",
    "    y_pred = dt.predict(X_test)\n",
    "    train_pred = dt.predict(X_train)\n",
    "    error_test.append(np.sqrt(metrics.mean_squared_error(y_test, y_pred)))\n",
    "    error_train.append(np.sqrt(metrics.mean_squared_error(train_pred, y_train)))\n",
    "\n",
    "t2 = time.time()\n",
    "print(t2-t1)"
   ]
  },
  {
   "cell_type": "code",
   "execution_count": 81,
   "id": "frank-score",
   "metadata": {},
   "outputs": [
    {
     "data": {
      "image/png": "[encoded data removed]",
      "text/plain": [
       "<Figure size 432x288 with 1 Axes>"
      ]
     },
     "metadata": {
      "needs_background": "light"
     },
     "output_type": "display_data"
    }
   ],
   "source": [
    "plt.figure()\n",
    "plt.plot(depths, error_train, label=\"J Train\")\n",
    "plt.plot(depths, error_test, label=\"J Test\")\n",
    "plt.legend([\"Train\", \"Test\"])\n",
    "plt.ylabel('Error')\n",
    "plt.xlabel('Tree depth')\n",
    "plt.title('Test and Train Error')\n",
    "plt.show()"
   ]
  },
  {
   "cell_type": "markdown",
   "id": "illegal-netscape",
   "metadata": {},
   "source": [
    "با توجه به نمودار بالا تا عمق 9 خطا در حال کاهش است ولی از عمق 9 به بعد خطای داده های تست افزایش می یاد و خطا ها واگرا می شوند. در این جا  overfitting رخ داده است. یعنی خطا برای داده train خیلی کم می شود و به سمت صفر میل می کند ولی برای داده تست زیاد می شود و دلیل آن فیت شدن مدل به داده های آموزشی است و دیگر برای مقادیر جدید پیش بینی خوبی انجام نمی دهد."
   ]
  },
  {
   "cell_type": "markdown",
   "id": "broad-quilt",
   "metadata": {},
   "source": [
    "بنابر این عمق 9 را انتخاب می کنیم."
   ]
  },
  {
   "cell_type": "code",
   "execution_count": 82,
   "id": "known-forward",
   "metadata": {},
   "outputs": [
    {
     "name": "stdout",
     "output_type": "stream",
     "text": [
      "Mean Absolute Error: 5277281.834007707\n",
      "Mean Squared Error: 222486204874478.53\n",
      "Root Mean Squared Error: 14915971.469350513\n",
      "Accuracy: 0.08439306358381503\n"
     ]
    }
   ],
   "source": [
    "clf = DecisionTreeClassifier(criterion=\"entropy\", max_depth=9,  min_samples_split=30)\n",
    "clf.fit(X_train, y_train)\n",
    "# tree.plot_tree(clf)\n",
    "# plt.show()\n",
    "y_pred = clf.predict(X_test)\n",
    "print('Mean Absolute Error:', metrics.mean_absolute_error(y_test, y_pred))\n",
    "print('Mean Squared Error:', metrics.mean_squared_error(y_test, y_pred))\n",
    "print('Root Mean Squared Error:', np.sqrt(metrics.mean_squared_error(y_test, y_pred)))\n",
    "print(\"Accuracy:\", metrics.accuracy_score(y_test, y_pred))"
   ]
  },
  {
   "cell_type": "markdown",
   "id": "instant-chamber",
   "metadata": {},
   "source": [
    "# KNN"
   ]
  },
  {
   "cell_type": "markdown",
   "id": "fleet-ukraine",
   "metadata": {},
   "source": [
    "الگوریتم معمولا برای classification استفاده می شود و این الگوریتم کلاس داده ها را بر اساس k  داده اطراف آن مدل سازی می کند یعنی هنگامی که داده جدیدی به آن می دهیم کلاس آن را بر اساس کلاس k داده اطراف آن تخمین می زند."
   ]
  },
  {
   "cell_type": "markdown",
   "id": "balanced-field",
   "metadata": {},
   "source": [
    "بنابر این به دست آوردن مقدار مناسب برای پارامتر k اهمیت زیادی دارد."
   ]
  },
  {
   "cell_type": "markdown",
   "id": "acquired-rally",
   "metadata": {},
   "source": [
    "برای به دست آورن k  داده نزدیک نیاز به محاسبه کردن فاصله داده ها می باشد که از سه طریق Euclidean Distance, Manhattan Distance, and Minkowski Distance قابل انجام است.  sickit learn  به صورت دیفالت از Euclidean  استفاده می کند."
   ]
  },
  {
   "cell_type": "code",
   "execution_count": 28,
   "id": "selective-guess",
   "metadata": {},
   "outputs": [
    {
     "name": "stdout",
     "output_type": "stream",
     "text": [
      "1.5121283531188965\n"
     ]
    }
   ],
   "source": [
    "t1 = time.time()\n",
    "\n",
    "df_k = df.reset_index(drop=True)\n",
    "vectorizer = CountVectorizer(analyzer='word', ngram_range=(1, 1), max_features=20)\n",
    "vectorized = vectorizer.fit_transform(df_k['description'])\n",
    "vectorized_desc = pd.DataFrame(vectorized.toarray().astype(np.uint8),\n",
    "            index=['sentence '+str(i)\n",
    "                   for i in range(1, 1+len(df_k['description']))],\n",
    "            columns=vectorizer.get_feature_names())\n",
    "vectorizer = CountVectorizer(analyzer='word', ngram_range=(1, 1), max_features=3)\n",
    "vectorized = vectorizer.fit_transform(df_k['title'])\n",
    "vectorized_title = pd.DataFrame(vectorized.toarray().astype(np.uint8),\n",
    "            index=['sentence '+str(i)\n",
    "                   for i in range(1, 1+len(df_k['title']))],\n",
    "            columns=vectorizer.get_feature_names())\n",
    "temp = df_k.drop(columns=['description', 'title'])\n",
    "vectorized_title = pd.DataFrame(vectorized_title).reset_index(drop=True)\n",
    "vectorized_desc = pd.DataFrame(vectorized_desc).reset_index(drop=True)\n",
    "data_ = pd.concat([temp, vectorized_desc, vectorized_title], axis=1).reset_index(drop=True)\n",
    "\n",
    "data_k = data_.loc[:30000, :]\n",
    "Y_k = data_k['price']\n",
    "X_k = data_k.drop(columns=['price'])\n",
    "X_train_k, X_test_k, y_train_k, y_test_k = train_test_split(X_k, Y_k, test_size=0.2, shuffle=True)\n",
    "t2 = time.time()\n",
    "print(t2-t1)"
   ]
  },
  {
   "cell_type": "code",
   "execution_count": 29,
   "id": "selected-consumption",
   "metadata": {},
   "outputs": [
    {
     "name": "stdout",
     "output_type": "stream",
     "text": [
      "k=  10\n",
      "k=  20\n",
      "k=  30\n",
      "k=  40\n",
      "k=  50\n",
      "95.71282887458801\n"
     ]
    },
    {
     "data": {
      "image/png": "[encoded data removed]",
      "text/plain": [
       "<Figure size 432x288 with 1 Axes>"
      ]
     },
     "metadata": {
      "needs_background": "light"
     },
     "output_type": "display_data"
    }
   ],
   "source": [
    "t1 = time.time()\n",
    "\n",
    "ks = np.arange(10, 60, 10)\n",
    "error_train_k = []\n",
    "error_test_k = []\n",
    "\n",
    "for k in ks:\n",
    "    print('k= ', k)\n",
    "    knn = KNeighborsClassifier(n_neighbors=k)\n",
    "    knn.fit(X_train_k, y_train_k)\n",
    "    y_pred_k = knn.predict(X_test_k)\n",
    "    train_pred_k = knn.predict(X_train_k)\n",
    "    error_test_k.append(np.sqrt(metrics.mean_squared_error(y_test_k, y_pred_k)))\n",
    "    error_train_k.append(np.sqrt(metrics.mean_squared_error(train_pred_k, y_train_k)))\n",
    "    \n",
    "t2 = time.time()\n",
    "print(t2-t1)\n",
    "plt.plot(ks, error_train_k, label=\"J Train\")\n",
    "plt.plot(ks, error_test_k, label=\"J Test\")\n",
    "plt.legend([\"Train\", \"Test\"])\n",
    "plt.ylabel('Error')\n",
    "plt.xlabel('k neighbors')\n",
    "plt.title('Error')\n",
    "plt.show()"
   ]
  },
  {
   "cell_type": "code",
   "execution_count": 30,
   "id": "creative-stranger",
   "metadata": {},
   "outputs": [
    {
     "name": "stdout",
     "output_type": "stream",
     "text": [
      "k=  3\n",
      "k=  4\n",
      "k=  5\n",
      "k=  6\n",
      "k=  7\n",
      "k=  8\n",
      "k=  9\n",
      "122.98464155197144\n"
     ]
    },
    {
     "data": {
      "image/png": "[encoded data removed]",
      "text/plain": [
       "<Figure size 432x288 with 1 Axes>"
      ]
     },
     "metadata": {
      "needs_background": "light"
     },
     "output_type": "display_data"
    }
   ],
   "source": [
    "t1 = time.time()\n",
    "\n",
    "ks = np.arange(3, 10, 1)\n",
    "error_train_k = []\n",
    "error_test_k = []\n",
    "\n",
    "for k in ks:\n",
    "    print('k= ', k)\n",
    "    knn = KNeighborsClassifier(n_neighbors=k)\n",
    "    knn.fit(X_train_k, y_train_k)\n",
    "    y_pred_k = knn.predict(X_test_k)\n",
    "    train_pred_k = knn.predict(X_train_k)\n",
    "    error_test_k.append(np.sqrt(metrics.mean_squared_error(y_test_k, y_pred_k)))\n",
    "    error_train_k.append(np.sqrt(metrics.mean_squared_error(train_pred_k, y_train_k)))\n",
    "    \n",
    "t2 = time.time()\n",
    "print(t2-t1)\n",
    "plt.plot(ks, error_train_k, label=\"J Train\")\n",
    "plt.plot(ks, error_test_k, label=\"J Test\")\n",
    "plt.legend([\"Train\", \"Test\"])\n",
    "plt.ylabel('Error')\n",
    "plt.xlabel('k neighbors')\n",
    "plt.title('Error')\n",
    "plt.show()"
   ]
  },
  {
   "cell_type": "markdown",
   "id": "rural-services",
   "metadata": {},
   "source": [
    "با توجه به نمودار بالا gap  بین خطای تست و ترین هرچه تعداد نونه های آموزشی را بیشتر کنیم، کمتر می شود. و به نظر می رسد که ۳۰ عدد مناسبی برای  k  .باشد. از ۳۰ به بعد هم خطای تست و هم ترین کاهش میابد.  \n",
    "ولی شیب تغییرات بسیار کم است و به محاسبات پیچیده ای که باید انجام شود نمی ارزد"
   ]
  },
  {
   "cell_type": "markdown",
   "id": "stuck-wings",
   "metadata": {},
   "source": [
    "هرچه مقدار k را بیشتر کنیم خطا کمتر می شود"
   ]
  },
  {
   "cell_type": "markdown",
   "id": "accredited-trading",
   "metadata": {},
   "source": [
    "کم ترین مقدار k  برابر با یک است که به معنی این می باشد که همه داده ها در یک کلاس قرار دارند. در این صورت خطای train خیلی کم (صفر) است و خطای  test بسیار زیاد است  در واقع مدل underfit است. "
   ]
  },
  {
   "cell_type": "markdown",
   "id": "other-progressive",
   "metadata": {},
   "source": [
    "بیشترین مقدار k همان تعداد نمونه های آموزشی می باشد یعنی برای هر نمونه آموزشی یک کلاس درنظر گرفته می شود و هرچه مدل به این حالت نزدیک تر باشد احتمال  overfit شدن بیشتر است. و خطا بیشتر می شود."
   ]
  },
  {
   "cell_type": "code",
   "execution_count": 85,
   "id": "coral-sweden",
   "metadata": {},
   "outputs": [
    {
     "name": "stdout",
     "output_type": "stream",
     "text": [
      "Root Mean Squared Error: 26764819.98583765\n",
      "44.62276649475098\n"
     ]
    }
   ],
   "source": [
    "t1 = time.time()\n",
    "knn = KNeighborsClassifier(n_neighbors=20)\n",
    "knn.fit(X_train, y_train)\n",
    "y_pred = knn.predict(X_test)\n",
    "print('Root Mean Squared Error:', np.sqrt(metrics.mean_squared_error(y_test, y_pred)))\n",
    "t2 = time.time()\n",
    "print(t2-t1)"
   ]
  },
  {
   "cell_type": "markdown",
   "id": "major-player",
   "metadata": {},
   "source": [
    "#  سوال ۵)"
   ]
  },
  {
   "cell_type": "markdown",
   "id": "acquired-pavilion",
   "metadata": {},
   "source": [
    "# Linear Regression"
   ]
  },
  {
   "cell_type": "markdown",
   "id": "united-patio",
   "metadata": {},
   "source": [
    " یک مدل خطی برای داده های آموزشی به دست می آورد. در این روش سعی در پیدا کردن وزن های بهینه برای مدل دارد. به گونه ای که خطای بین مقدار پیش بینی شده و مقدار واقعی حداقل شود. و در نتیجه خطا برای داده های تست هم کاهش یابد."
   ]
  },
  {
   "cell_type": "markdown",
   "id": "extensive-gateway",
   "metadata": {},
   "source": [
    "   اگر داده های آموزشی کمی در اختیار داشته باشیم ممکن است مدل underfit  شود.  \n",
    "  به طور معمول بهترین راه این است که حدود ۲۰ درصد داده ها را به عنوان داده تست در نظر بگیریم. که هم بتوانیم مدل را به خوبی آموزش دهیم و هم دقت را برای داده های جدید به خوبی ارزیابی کنیم."
   ]
  },
  {
   "cell_type": "markdown",
   "id": "cutting-castle",
   "metadata": {},
   "source": [
    " ولی به طور کلی پس از چند بار ران کردن به نظر می رسد که خطا در بازه بزرگی متغیر است و مقدار خطا robust  نیست. به نظر می رسد که چون تعداد داده های تست بسیار کم است گاهی  overfit می شود و دقت کاهش میابد و گاهی به طور شانسی داده های تست را خوب انتخاب می کند و خطا کم تر می شود. از طرفی چون فقط داریم خطا را بررسی میکنیم و تعداد داده های تست را بسیار کم کرده ایم طبیعی است که اگر داده ها خیلی بد انتخاب نشوند، مجموع خطا ها کم تر شود. ولی همان طور که گفته شد این کم بودن خطا ها مقاوم در برابر داده های دیگر نیست."
   ]
  },
  {
   "cell_type": "markdown",
   "id": "handy-essence",
   "metadata": {},
   "source": [
    "در ادامه به ازای ۱۰ iteration و برای test ratio ۰.۰۲  خطا را رسم می کنیم:"
   ]
  },
  {
   "cell_type": "code",
   "execution_count": 64,
   "id": "supreme-vitamin",
   "metadata": {},
   "outputs": [
    {
     "name": "stdout",
     "output_type": "stream",
     "text": [
      "itr=  1\n",
      "itr=  2\n",
      "itr=  3\n",
      "itr=  4\n",
      "itr=  5\n",
      "itr=  6\n",
      "itr=  7\n",
      "itr=  8\n",
      "itr=  9\n"
     ]
    }
   ],
   "source": [
    "data_l = pd.get_dummies(data, columns=['brand']).reset_index(drop=True)\n",
    "Y_l = data_l['price']\n",
    "X_l = data_l.drop(columns=['price'])\n",
    "iterations = np.arange(1, 10, 1)\n",
    "error_train_l = []\n",
    "error_test_l = []\n",
    "for i in iterations:\n",
    "    print('itr= ', i)\n",
    "    X_train_l, X_test_l, y_train_l, y_test_l = train_test_split(X_l, Y_l, test_size=0.02, shuffle=True)\n",
    "    model = LinearRegression()\n",
    "    model.fit(X_train_l, y_train_l)\n",
    "    y_pred_l = model.predict(X_test_l)\n",
    "    train_pred_l = model.predict(X_train_l)\n",
    "    error_test_l.append(np.sqrt(metrics.mean_squared_error(y_test_l, y_pred_l)))\n",
    "    error_train_l.append(np.sqrt(metrics.mean_squared_error(train_pred_l, y_train_l)))"
   ]
  },
  {
   "cell_type": "code",
   "execution_count": 65,
   "id": "pharmaceutical-cabin",
   "metadata": {},
   "outputs": [
    {
     "data": {
      "image/png": "[encoded data removed]",
      "text/plain": [
       "<Figure size 432x288 with 1 Axes>"
      ]
     },
     "metadata": {
      "needs_background": "light"
     },
     "output_type": "display_data"
    }
   ],
   "source": [
    "plt.plot(iterations, error_train_l, label=\"J Train\")\n",
    "plt.plot(iterations, error_test_l, label=\"J Test\")\n",
    "plt.legend([\"Train\", \"Test\"])\n",
    "plt.ylabel('Error')\n",
    "plt.xlabel('iteration')\n",
    "plt.title('Error')\n",
    "plt.show()"
   ]
  },
  {
   "cell_type": "markdown",
   "id": "split-customs",
   "metadata": {},
   "source": [
    "برای پیدا کردن بهترین تعداد تکرار بازه ۰ تا ۱ را به ۱۰ قسمت تقسیم می کنیم و الگوریتم را پیاده سازی می کنیم:"
   ]
  },
  {
   "cell_type": "code",
   "execution_count": 67,
   "id": "built-operation",
   "metadata": {},
   "outputs": [
    {
     "name": "stdout",
     "output_type": "stream",
     "text": [
      "itr=  0.001\n",
      "itr=  0.101\n",
      "itr=  0.201\n",
      "itr=  0.30100000000000005\n",
      "itr=  0.401\n",
      "itr=  0.501\n",
      "itr=  0.6010000000000001\n",
      "itr=  0.7010000000000001\n",
      "itr=  0.801\n",
      "itr=  0.901\n"
     ]
    }
   ],
   "source": [
    "data_l = pd.get_dummies(data, columns=['brand']).reset_index(drop=True)\n",
    "Y_l = data_l['price']\n",
    "X_l = data_l.drop(columns=['price'])\n",
    "ratios = np.arange(0.001, 1, 0.1)\n",
    "error_train_l = []\n",
    "error_test_l = []\n",
    "for r in ratios:\n",
    "    print('itr= ', r)\n",
    "    X_train_l, X_test_l, y_train_l, y_test_l = train_test_split(X_l, Y_l, test_size=r, shuffle=True)\n",
    "    model = LinearRegression()\n",
    "    model.fit(X_train_l, y_train_l)\n",
    "    y_pred_l = model.predict(X_test_l)\n",
    "    train_pred_l = model.predict(X_train_l)\n",
    "    error_test_l.append(np.sqrt(metrics.mean_squared_error(y_test_l, y_pred_l)))\n",
    "    error_train_l.append(np.sqrt(metrics.mean_squared_error(train_pred_l, y_train_l)))"
   ]
  },
  {
   "cell_type": "code",
   "execution_count": 69,
   "id": "impressive-directory",
   "metadata": {},
   "outputs": [
    {
     "data": {
      "image/png": "[encoded data removed]",
      "text/plain": [
       "<Figure size 432x288 with 1 Axes>"
      ]
     },
     "metadata": {
      "needs_background": "light"
     },
     "output_type": "display_data"
    }
   ],
   "source": [
    "plt.plot(ratios, error_train_l, label=\"J Train\")\n",
    "plt.plot(ratios, error_test_l, label=\"J Test\")\n",
    "plt.legend([\"Train\", \"Test\"])\n",
    "plt.ylabel('Error')\n",
    "plt.xlabel('Test Ratio')\n",
    "plt.title('Error')\n",
    "plt.show()"
   ]
  },
  {
   "cell_type": "markdown",
   "id": "inclusive-symphony",
   "metadata": {},
   "source": [
    "همان طور که توضیح داده شد اگر حدود ۲۰ درصد به بالا را داده تست درنظر بگیریم الگوریتم underfit می شود و دیگر خطا را به درستی تشخیص نمی دهد."
   ]
  },
  {
   "cell_type": "code",
   "execution_count": 72,
   "id": "constitutional-month",
   "metadata": {},
   "outputs": [
    {
     "name": "stdout",
     "output_type": "stream",
     "text": [
      "Root Mean Squared Error: 14613854.590727167\n"
     ]
    }
   ],
   "source": [
    "data_l = pd.get_dummies(data, columns=['brand']).reset_index(drop=True)\n",
    "Y_l = data_l['price']\n",
    "X_l = data_l.drop(columns=['price'])\n",
    "X_train_l, X_test_l, y_train_l, y_test_l = train_test_split(X_l, Y_l, test_size=0.1, shuffle=True)\n",
    "model = LinearRegression()\n",
    "model.fit(X_train_l, y_train_l)\n",
    "y_pred_l = model.predict(X_test_l)\n",
    "print('Root Mean Squared Error:', np.sqrt(metrics.mean_squared_error(y_test_l, y_pred_l)))"
   ]
  },
  {
   "cell_type": "markdown",
   "id": "broadband-zimbabwe",
   "metadata": {},
   "source": [
    "# سوال ۷)"
   ]
  },
  {
   "cell_type": "markdown",
   "id": "sunset-mongolia",
   "metadata": {},
   "source": [
    "# Random Forest"
   ]
  },
  {
   "cell_type": "markdown",
   "id": "hearing-motel",
   "metadata": {},
   "source": [
    "n_estimators:  نشان دهنده تعداد درخت ها می باشد هر چه تعداد درخت ها بیشتر باشد مدل مقاوم تر است و واریانس آن کم تر است اما زمان محاسبه داده های آموزشی زیاد است.  برای مشخص کردن این هایپر پارامتر باید به تعداد نمونه های آموزشی و همچنین تعداد ویژگی های هر نمونه نگاه کنیم. به دلیل این که اگر به طور مثال تعداد ویژگی ها بسیار زیاد باشد ولی تعداد درخت ها کم باشد در این صورت درخت ها همه ویژگی ها را پوشش نمی دهد و ممکن است بعضی از ویژگی های مهم را از دست  بدهیم.  "
   ]
  },
  {
   "cell_type": "markdown",
   "id": "organic-confidence",
   "metadata": {},
   "source": [
    "همچنین اگر تعداد نمونه های آموزشی زیاد باشند ولی از تعداد درخت های کمی استفاده کنیم اتفاق مشابهی می افتد."
   ]
  },
  {
   "cell_type": "markdown",
   "id": "activated-peeing",
   "metadata": {},
   "source": [
    "این الگوریتم به ندرت  overfit  می شود بنابر این معمولا هر چه تعداد درخت ها را بیشتر کنیم خطا کمتر و دقت بیشتر می شود ولی باید به حجم محاسباتی هم توجه داشته باشیم."
   ]
  },
  {
   "cell_type": "markdown",
   "id": "interim-amount",
   "metadata": {},
   "source": [
    "Number of random features: تعداد فیچر هایی که در هر نود برای split  کردن در نظر می گیرد."
   ]
  },
  {
   "cell_type": "markdown",
   "id": "scheduled-monthly",
   "metadata": {},
   "source": [
    "The Criteria on which to split on at each node of the trees: روشی که در هر نود به کار می برد و  split  را بر اساس آن انجام می دهد.\n",
    "دو حالت Gini  و Entropy دارد."
   ]
  },
  {
   "cell_type": "markdown",
   "id": "chinese-portable",
   "metadata": {},
   "source": [
    "در این سوال از RandomForestRegressor  استفاده کرده ام. در این مدل سازی از چند درخت تصمیم استفاده می ود که هر کدام از آن ها بر روی زیر مجموعه ای از داده ها مدل می شوند و در نهایت میانگین آن ها به عنوان مدل نهایی انتخاب می شود.   "
   ]
  },
  {
   "cell_type": "markdown",
   "id": "square-advertiser",
   "metadata": {},
   "source": [
    "با استفاده از random_grid    بازه ای از مقادیر مختلف را به آن می دهیم و با توجه بهRandomizedSearchCV  بهترین مقادیر را انتخاب می کند."
   ]
  },
  {
   "cell_type": "code",
   "execution_count": 76,
   "id": "european-preference",
   "metadata": {},
   "outputs": [
    {
     "name": "stdout",
     "output_type": "stream",
     "text": [
      "{'n_estimators': [10, 20, 30, 40, 50], 'max_features': ['auto', 'sqrt'], 'max_depth': [8, 18, 29, 39, 50, None], 'min_samples_split': [5, 10, 20, 40], 'min_samples_leaf': [2, 4, 8, 10, 20], 'bootstrap': [True, False]}\n",
      "Fitting 4 folds for each of 10 candidates, totalling 40 fits\n",
      "Root Mean Squared Error: 11660500.480838591\n"
     ]
    }
   ],
   "source": [
    "Y = data['price']\n",
    "X = data.drop(columns=['price'])\n",
    "X_train, X_test, y_train, y_test = train_test_split(X, Y, test_size=0.2, shuffle=True)\n",
    "\n",
    "n_estimators = [int(x) for x in np.linspace(start = 10, stop = 50, num = 5)]\n",
    "max_features = ['auto', 'sqrt']\n",
    "max_depth = [int(x) for x in np.linspace(8, 50, num = 5)]\n",
    "max_depth.append(None)\n",
    "min_samples_split = [5, 10, 20, 40]\n",
    "min_samples_leaf = [2, 4, 8, 10, 20]\n",
    "bootstrap = [True, False]\n",
    "# criterion = ['mse', 'mae']\n",
    "random_grid = {'n_estimators': n_estimators,\n",
    "               'max_features': max_features,\n",
    "               'max_depth': max_depth,\n",
    "               'min_samples_split': min_samples_split,\n",
    "               'min_samples_leaf': min_samples_leaf,\n",
    "               'bootstrap': bootstrap\n",
    "                }\n",
    "print(random_grid)\n",
    "rf = RandomForestRegressor()\n",
    "rf_random = RandomizedSearchCV(estimator=rf, param_distributions = random_grid, n_iter = 10, cv = 4, verbose=2, random_state=42, n_jobs = -1)\n",
    "rf_random.fit(X_train, y_train)\n",
    "y_pred = rf_random.predict(X_test)\n",
    "print('Root Mean Squared Error:', np.sqrt(metrics.mean_squared_error(y_test, y_pred)))"
   ]
  },
  {
   "cell_type": "markdown",
   "id": "prostate-paintball",
   "metadata": {},
   "source": [
    "بایاس: تفاوت بین میانگین پیش بینی های مدل و مقادیر واقعی کلاس ها می باشد. مدلی که بایاس بالا داشته باشد توجه کم تری به داده های آموزشی دارد و درواقع مدل ساده تری ایجاد می کند که مستعد underfitting است. در این موارد خطای داده تست و آموزشی هر دو زیاد است ولی می دانیم همیشه خطای تست ازtrainf بیشتر است."
   ]
  },
  {
   "cell_type": "markdown",
   "id": "sought-boating",
   "metadata": {},
   "source": [
    "واریانس: \n",
    "    مدل با واریانس بالا به این معنی است که توجه زیادی به داده آموزشی دارد، مدل پیچیده تری ایجاد می کند که خطای داده آموزشی را کاهش دهد . generalize  نمی باشد و برای داده های جدید خطای زیادی دارد.و در واقع مدل overfit است"
   ]
  },
  {
   "cell_type": "markdown",
   "id": "turned-producer",
   "metadata": {},
   "source": [
    "انتظار داریم  با توجه به تعریف بایاس و واریانس مدل تجمیعی به نسبت درخت تصمیم (یک) عملکرد بهتری داشته باشد زیرا در این حالت هر نمونه در عین حال که در مدل سازی نقش دارد، به نظر می رسد که با میانگین گیری به نوعی نقش پایدار سازی را دارد بنابر این از overfit شدن جلوگری می کند و از طرف دیگر تعداد نمونه ها و فیچر ها را هم اگر معقول انتخاب کنیم underfit نخواهد شد و در نتیجه بایاس بالا و یا واریانس بالا نخواهیم داشت."
   ]
  },
  {
   "cell_type": "markdown",
   "id": "streaming-affairs",
   "metadata": {},
   "source": [
    "# نتیجه گیری:"
   ]
  },
  {
   "cell_type": "markdown",
   "id": "proper-italic",
   "metadata": {},
   "source": [
    "برای مسئل طبقه بندی، در هر مدل سازی باید ابتدا داده ها را به خوبی شناخت، روابط و وابستگی های بین آن ها و تاثیر هر کدام در تشخیص کلاس را به دست آورد. استخراج ویژگی های درست از نمونه ها بسیار اهمیت دارد و می تواند مدل سازی را تحت تاثیر قرار دهد.  "
   ]
  },
  {
   "cell_type": "markdown",
   "id": "fleet-recipient",
   "metadata": {},
   "source": [
    "بهترین روش پیدا کردن هایپر پارامتر های مدل بررسی مقدار های مختلف و در نهایت انتخاب پارامتر بهینه( پارامتری که خطا را کمینه می کند) می باشد."
   ]
  },
  {
   "cell_type": "code",
   "execution_count": 91,
   "id": "stylish-spanking",
   "metadata": {},
   "outputs": [
    {
     "data": {
      "text/plain": [
       "0"
      ]
     },
     "execution_count": 91,
     "metadata": {},
     "output_type": "execute_result"
    }
   ],
   "source": [
    "import os\n",
    "os.system('jupyter nbconvert --to html AI_CA4_810896059.ipynb')"
   ]
  }
 ],
 "metadata": {
  "kernelspec": {
   "display_name": "Python 3",
   "language": "python",
   "name": "python3"
  },
  "language_info": {
   "codemirror_mode": {
    "name": "ipython",
    "version": 3
   },
   "file_extension": ".py",
   "mimetype": "text/x-python",
   "name": "python",
   "nbconvert_exporter": "python",
   "pygments_lexer": "ipython3",
   "version": "3.8.10"
  }
 },
 "nbformat": 4,
 "nbformat_minor": 5
}
